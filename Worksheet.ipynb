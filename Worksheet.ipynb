{
 "cells": [
  {
   "cell_type": "markdown",
   "metadata": {},
   "source": [
    "Step 1: Create a Python program\n",
    "\n",
    "Create a Python program either here in Jhub or using Spyder Locally.  Inside the main definition, the program begins by setting up the LocoRobo API (also known as Application Programming Interface; the LocoRobo API contains many helpful commands for interacting with the robot). Next, we scan for 2000 milliseconds using the Bluetooth dongle to find robots in the room. Then, we use the get_robot command (defined in an earlier section of your Python code - this will be covered in detail in a future lesson).\n",
    "\n",
    "Make sure that you change the name from “lr 00:07” to the name of your robot in the command robot = get_robot(robots, “lr 00:07”). You do not have to change the robot name anywhere else in the code.\n",
    "\n",
    "Suppose your robot was named “pasta”. In that case, you code would look like the following:"
   ]
  },
  {
   "cell_type": "code",
   "execution_count": null,
   "metadata": {},
   "outputs": [],
   "source": [
    "def main():\n",
    "    # Tell LocoRobo what serial port to use\n",
    "    LocoRobo.setup(\"/dev/tty.usbmodem1\")\n",
    "    \n",
    "    # Scan for robots\n",
    "    robots = LocoRobo.scan(2000)\n",
    "\n",
    "    # Use get_robots to find robot with name lr 00:07 in the scan result\n",
    "    robot = get_robot(robots, \"pasta\")\n",
    "\n",
    "    robot.connect()\n",
    "    robot.activate_motors()\n",
    "    robot.enable_sensor(Data.ULTRASONIC, True)\n",
    "\n",
    "    robot.set_light(0, 255, 0, 0)\n",
    "    robot.sync_lights()\n",
    "    \n",
    "    LocoRobo.wait(1)\n",
    "\n",
    "    robot.deactivate_motors()\n",
    "    robot.disconnect()\n",
    "    \n",
    "# If we are on the main thread, run the program\n",
    "if __name__ == \"__main__\":\n",
    "\n",
    "    try:\n",
    "        main()\n",
    "    except:\n",
    "        LocoRobo.stop()\n",
    "        raise\n",
    "\n",
    "    LocoRobo.stop()"
   ]
  },
  {
   "cell_type": "markdown",
   "metadata": {},
   "source": [
    "Notice “pasta” has replaced “lr 00:07” in get_robot() in line 34. \n",
    "\n",
    "After connecting to the robot, we activate its motors and enable the ultrasonic sensor. Activating the robot’s motors also enables us to set a custom LED pattern."
   ]
  },
  {
   "cell_type": "code",
   "execution_count": null,
   "metadata": {},
   "outputs": [],
   "source": [
    "    robot.set_light(0, 255, 0, 0)\n",
    "    robot.sync_lights()\n",
    "    \n",
    "    LocoRobo.wait(1)"
   ]
  },
  {
   "cell_type": "markdown",
   "metadata": {},
   "source": [
    "As demonstrated in the code above, the robot lights are controlled by adding a robot.set_light() command and a robot.sync_lights() command to your Python code.\n",
    "\n",
    "The robot.set_light() command takes in 4 inputs: the LED number, followed by R, G, and B values.  Refer to the Student Guide for more information on RGB LEDs. (docs.locorobo.co)\n",
    "\n",
    "The set_light() command queues a change in the lights, and the sync_lights() command updates the physical LEDs on the robot.\n",
    "\n",
    "Lastly, add a 1 second wait using the LocoRobo.wait() command.  Without this, the program would immediately deactivate the motors and disconnect from the robot after syncing the lights.\n",
    "\n",
    "All the code shown above is contained in what is called the “main” function. By itself, the main function wouldn’t run, however, we have the following code at the bottom of our program which runs when we run the program. You can see inside of it that the “main” function is called."
   ]
  },
  {
   "cell_type": "code",
   "execution_count": null,
   "metadata": {},
   "outputs": [],
   "source": [
    "# If we are on the main thread, run the program\n",
    "if __name__ == \"__main__\":\n",
    "\n",
    "    try:\n",
    "        main()\n",
    "    except:\n",
    "        LocoRobo.stop()\n",
    "        raise\n",
    "\n",
    "    LocoRobo.stop()"
   ]
  }
 ],
 "metadata": {
  "kernelspec": {
   "display_name": "Python 3",
   "language": "python",
   "name": "python3"
  },
  "language_info": {
   "codemirror_mode": {
    "name": "ipython",
    "version": 3
   },
   "file_extension": ".py",
   "mimetype": "text/x-python",
   "name": "python",
   "nbconvert_exporter": "python",
   "pygments_lexer": "ipython3",
   "version": "3.7.3"
  },
  "toc": {
   "base_numbering": 1,
   "nav_menu": {},
   "number_sections": false,
   "sideBar": false,
   "skip_h1_title": false,
   "title_cell": "Table of Contents",
   "title_sidebar": "Contents",
   "toc_cell": false,
   "toc_position": {},
   "toc_section_display": false,
   "toc_window_display": false
  }
 },
 "nbformat": 4,
 "nbformat_minor": 2
}
